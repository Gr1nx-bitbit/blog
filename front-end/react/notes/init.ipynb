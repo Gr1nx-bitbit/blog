{
 "cells": [
  {
   "cell_type": "markdown",
   "metadata": {},
   "source": [
    "There're a couple of ways in which you can setup a react app: either by importing the React packages into your HTML page or through another method which I have yet to find out. Either way, an important react object to rememver is the *ReactDOM* object which can be used to render components and HTML to tags you specify on the HTML page. \n",
    "\n",
    "**JSX** is kind of like a flavor of JavaScript that looks like HTML. React takes your JSX and just makes JavaScript objects from it which get rendered to the browser. Another important thing to note with JSX is that you can only have ONE SINGLE parent element that is returned to be rendered:"
   ]
  },
  {
   "cell_type": "code",
   "execution_count": null,
   "metadata": {
    "vscode": {
     "languageId": "plaintext"
    }
   },
   "outputs": [],
   "source": [
    "// this is correct\n",
    "ReactDOM.render(\n",
    "    <h1>Header</h1>,\n",
    "    document.getElementById(\"root\")\n",
    ")\n",
    "\n",
    "// sibling elements will result in an error since there can only be one parent element \n",
    "ReactDOM.render(\n",
    "    <h1>Header</h1><p>Text</p>, // ERROR \n",
    "    document.getElementById(\"root\")\n",
    ")\n",
    "\n",
    "// If you want multiple elements, just wrap them in something like a div\n",
    "ReactDOM.render(\n",
    "    <div>\n",
    "        <h1>Header</h1>\n",
    "        <MyCustomComponent />\n",
    "    </div>,\n",
    "    document.getElementById(\"root\")\n",
    ")"
   ]
  },
  {
   "cell_type": "markdown",
   "metadata": {},
   "source": []
  }
 ],
 "metadata": {
  "language_info": {
   "name": "python"
  }
 },
 "nbformat": 4,
 "nbformat_minor": 2
}
